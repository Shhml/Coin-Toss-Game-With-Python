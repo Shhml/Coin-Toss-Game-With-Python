{
  "nbformat": 4,
  "nbformat_minor": 0,
  "metadata": {
    "colab": {
      "provenance": []
    },
    "kernelspec": {
      "name": "python3",
      "display_name": "Python 3"
    },
    "language_info": {
      "name": "python"
    }
  },
  "cells": [
    {
      "cell_type": "code",
      "execution_count": 1,
      "metadata": {
        "id": "9dBZovoMXN4q",
        "colab": {
          "base_uri": "https://localhost:8080/"
        },
        "outputId": "c9b0c77c-a79e-4094-9243-9066b9443ce0"
      },
      "outputs": [
        {
          "output_type": "stream",
          "name": "stdout",
          "text": [
            "Press Enter to toss the coin (or type 'quit' to exit): tails\n",
            "The coin landed on: Heads\n",
            "Toss again? (yes/no): head\n",
            "Press Enter to toss the coin (or type 'quit' to exit): head\n",
            "The coin landed on: Tails\n",
            "Toss again? (yes/no): head\n",
            "Press Enter to toss the coin (or type 'quit' to exit): head\n",
            "The coin landed on: Heads\n",
            "Toss again? (yes/no): no\n",
            "Thanks for playing!\n"
          ]
        }
      ],
      "source": [
        "import random\n",
        "\n",
        "while True:\n",
        "    input(\"Press Enter to toss the coin (or type 'quit' to exit): \")\n",
        "    coin = random.choice([\"Heads\", \"Tails\"])\n",
        "    print(f\"The coin landed on: {coin}\")\n",
        "\n",
        "    if input(\"Toss again? (yes/no): \").lower() == \"no\":\n",
        "        print(\"Thanks for playing!\")\n",
        "        break"
      ]
    }
  ]
}